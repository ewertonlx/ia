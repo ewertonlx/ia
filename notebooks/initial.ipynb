{
 "cells": [
  {
   "cell_type": "code",
   "execution_count": 1,
   "id": "71d5b3f3",
   "metadata": {},
   "outputs": [
    {
     "name": "stdout",
     "output_type": "stream",
     "text": [
      "[8.39769161 8.39769161 8.39769161 ... 8.39769161 8.39769161 8.39769161]\n"
     ]
    }
   ],
   "source": [
    "import pandas as pd\n",
    "\n",
    "df = pd.read_csv('../data/en.openfoodfacts.org.products.tsv', sep='\\t', low_memory=False)\n",
    "df = df[\n",
    "    [\n",
    "    'code', 'product_name', 'nutrition-score-fr_100g', 'quantity', 'fruits-vegetables-nuts_100g', \n",
    "    'fruits-vegetables-nuts-estimate_100g', 'collagen-meat-protein-ratio_100g', 'cocoa_100g', \n",
    "    'chlorophyl_100g', 'carbon-footprint_100g', 'glycemic-index_100g', 'water-hardness_100g'\n",
    "    ]\n",
    "]\n",
    "\n",
    "colsConvert = [\n",
    "    'fruits-vegetables-nuts_100g', 'fruits-vegetables-nuts-estimate_100g', 'collagen-meat-protein-ratio_100g', 'cocoa_100g', \n",
    "    'chlorophyl_100g', 'carbon-footprint_100g', 'glycemic-index_100g', 'water-hardness_100g'\n",
    "]\n",
    "\n",
    "df = df.dropna(subset=['quantity', 'nutrition-score-fr_100g'])\n",
    "df_processed = pd.get_dummies(df, columns=colsConvert, dtype=int)\n",
    "one_hot_cols = [col for col in df_processed.columns if any(base in col for base in colsConvert)]\n",
    "\n",
    "X = df_processed[one_hot_cols]\n",
    "y = df_processed['nutrition-score-fr_100g']\n",
    "\n",
    "from sklearn.linear_model import LinearRegression\n",
    "model = LinearRegression()\n",
    "\n",
    "from sklearn.model_selection import train_test_split\n",
    "X_train, X_test, y_train, y_test = train_test_split(X, y, test_size=0.2)\n",
    "\n",
    "model.fit(X_train, y_train)\n",
    "y_pred = model.predict(X_test)\n",
    "print(y_pred)"
   ]
  }
 ],
 "metadata": {
  "kernelspec": {
   "display_name": "aula_dados",
   "language": "python",
   "name": "python3"
  },
  "language_info": {
   "codemirror_mode": {
    "name": "ipython",
    "version": 3
   },
   "file_extension": ".py",
   "mimetype": "text/x-python",
   "name": "python",
   "nbconvert_exporter": "python",
   "pygments_lexer": "ipython3",
   "version": "3.11.13"
  }
 },
 "nbformat": 4,
 "nbformat_minor": 5
}
